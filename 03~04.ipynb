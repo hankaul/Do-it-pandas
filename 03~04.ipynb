{
 "cells": [
  {
   "cell_type": "code",
   "execution_count": 92,
   "id": "9f9c3a1c-7660-4e2c-bf1f-0eb3a0d9bd33",
   "metadata": {},
   "outputs": [
    {
     "name": "stdout",
     "output_type": "stream",
     "text": [
      "0    banana\n",
      "1        42\n",
      "dtype: object\n"
     ]
    }
   ],
   "source": [
    "#시리즈 만들기\n",
    "import pandas as pd\n",
    "t = pd.Series(['banana',42])\n",
    "print(t)\n",
    "#자동으로 인덱스는 0부터"
   ]
  },
  {
   "cell_type": "code",
   "execution_count": 93,
   "id": "25eb9928-b2f8-401b-866e-751af5c9cdbd",
   "metadata": {},
   "outputs": [
    {
     "data": {
      "text/plain": [
       "person         Wes Mckinney\n",
       "who       Creator of Pandas\n",
       "dtype: object"
      ]
     },
     "execution_count": 93,
     "metadata": {},
     "output_type": "execute_result"
    }
   ],
   "source": [
    "#인덱스를 지정한 시리즈\n",
    "index = ['person','who']\n",
    "s = pd.Series(['Wes Mckinney', 'Creator of Pandas'], index = index)\n",
    "s"
   ]
  },
  {
   "cell_type": "code",
   "execution_count": 94,
   "id": "aba88b86-8c15-41ca-b37b-dd1090b7c939",
   "metadata": {},
   "outputs": [],
   "source": [
    "#데이터 프레임 만들기\n",
    "\n",
    "scientists = pd.DataFrame({'Name':['Rosaline Franklin', 'William Gosset'],\n",
    "                           'Occupation' : ['Chemist','Statiustication'],\n",
    "                           'Born':['1920-07-25','1876-06-13'],\n",
    "                           'Died':['1958-04-16','1937-10-16'],\n",
    "                           'Age':[37,61]})"
   ]
  },
  {
   "cell_type": "code",
   "execution_count": 95,
   "id": "12b17c0e-52ba-410e-a07d-a2afc25b91f4",
   "metadata": {},
   "outputs": [
    {
     "data": {
      "text/html": [
       "<div>\n",
       "<style scoped>\n",
       "    .dataframe tbody tr th:only-of-type {\n",
       "        vertical-align: middle;\n",
       "    }\n",
       "\n",
       "    .dataframe tbody tr th {\n",
       "        vertical-align: top;\n",
       "    }\n",
       "\n",
       "    .dataframe thead th {\n",
       "        text-align: right;\n",
       "    }\n",
       "</style>\n",
       "<table border=\"1\" class=\"dataframe\">\n",
       "  <thead>\n",
       "    <tr style=\"text-align: right;\">\n",
       "      <th></th>\n",
       "      <th>Name</th>\n",
       "      <th>Occupation</th>\n",
       "      <th>Born</th>\n",
       "      <th>Died</th>\n",
       "      <th>Age</th>\n",
       "    </tr>\n",
       "  </thead>\n",
       "  <tbody>\n",
       "    <tr>\n",
       "      <th>0</th>\n",
       "      <td>Rosaline Franklin</td>\n",
       "      <td>Chemist</td>\n",
       "      <td>1920-07-25</td>\n",
       "      <td>1958-04-16</td>\n",
       "      <td>37</td>\n",
       "    </tr>\n",
       "    <tr>\n",
       "      <th>1</th>\n",
       "      <td>William Gosset</td>\n",
       "      <td>Statiustication</td>\n",
       "      <td>1876-06-13</td>\n",
       "      <td>1937-10-16</td>\n",
       "      <td>61</td>\n",
       "    </tr>\n",
       "  </tbody>\n",
       "</table>\n",
       "</div>"
      ],
      "text/plain": [
       "                Name       Occupation        Born        Died  Age\n",
       "0  Rosaline Franklin          Chemist  1920-07-25  1958-04-16   37\n",
       "1     William Gosset  Statiustication  1876-06-13  1937-10-16   61"
      ]
     },
     "execution_count": 95,
     "metadata": {},
     "output_type": "execute_result"
    }
   ],
   "source": [
    "scientists"
   ]
  },
  {
   "cell_type": "code",
   "execution_count": 96,
   "id": "2fd684be-3558-42d0-9f8b-16a8dfcfbda9",
   "metadata": {},
   "outputs": [],
   "source": [
    "scientists = pd.DataFrame({'Name':['Rosaline Franklin', 'William Gosset'],\n",
    "                           'Occupation' : ['Chemist','Statiustication'],\n",
    "                           'Born':['1920-07-25','1876-06-13'],\n",
    "                           'Died':['1958-04-16','1937-10-16'],\n",
    "                           'Age':[37,61]},\n",
    "                         index = ['Rosaline Franklin','William Gosset'],\n",
    "                         columns = ['Occupation','Born','Age','Died'])\n",
    "# Name-Occupation-Born-Died-Age 순서로 딕셔너리를 입력했음에도 columns 인자 열 순서를 따른다."
   ]
  },
  {
   "cell_type": "code",
   "execution_count": 97,
   "id": "9cc940c6-275b-4120-800e-a3d5465b866a",
   "metadata": {},
   "outputs": [
    {
     "data": {
      "text/html": [
       "<div>\n",
       "<style scoped>\n",
       "    .dataframe tbody tr th:only-of-type {\n",
       "        vertical-align: middle;\n",
       "    }\n",
       "\n",
       "    .dataframe tbody tr th {\n",
       "        vertical-align: top;\n",
       "    }\n",
       "\n",
       "    .dataframe thead th {\n",
       "        text-align: right;\n",
       "    }\n",
       "</style>\n",
       "<table border=\"1\" class=\"dataframe\">\n",
       "  <thead>\n",
       "    <tr style=\"text-align: right;\">\n",
       "      <th></th>\n",
       "      <th>Occupation</th>\n",
       "      <th>Born</th>\n",
       "      <th>Age</th>\n",
       "      <th>Died</th>\n",
       "    </tr>\n",
       "  </thead>\n",
       "  <tbody>\n",
       "    <tr>\n",
       "      <th>Rosaline Franklin</th>\n",
       "      <td>Chemist</td>\n",
       "      <td>1920-07-25</td>\n",
       "      <td>37</td>\n",
       "      <td>1958-04-16</td>\n",
       "    </tr>\n",
       "    <tr>\n",
       "      <th>William Gosset</th>\n",
       "      <td>Statiustication</td>\n",
       "      <td>1876-06-13</td>\n",
       "      <td>61</td>\n",
       "      <td>1937-10-16</td>\n",
       "    </tr>\n",
       "  </tbody>\n",
       "</table>\n",
       "</div>"
      ],
      "text/plain": [
       "                        Occupation        Born  Age        Died\n",
       "Rosaline Franklin          Chemist  1920-07-25   37  1958-04-16\n",
       "William Gosset     Statiustication  1876-06-13   61  1937-10-16"
      ]
     },
     "execution_count": 97,
     "metadata": {},
     "output_type": "execute_result"
    }
   ],
   "source": [
    "scientists"
   ]
  },
  {
   "cell_type": "code",
   "execution_count": 98,
   "id": "d7b4eab1-4b2b-4e87-b1b5-5f5dac2b1764",
   "metadata": {},
   "outputs": [],
   "source": [
    "#순서를 보장된 딕셔너리 전달\n",
    "from collections import OrderedDict"
   ]
  },
  {
   "cell_type": "code",
   "execution_count": 99,
   "id": "dc866cc3-bcc1-4ced-a52f-a3bb8b68fc47",
   "metadata": {},
   "outputs": [],
   "source": [
    "first_row = scientists.loc['William Gosset',:]"
   ]
  },
  {
   "cell_type": "code",
   "execution_count": 100,
   "id": "6a6e6649-e1b9-4b8a-a8ea-dd704d9d73bd",
   "metadata": {},
   "outputs": [
    {
     "data": {
      "text/plain": [
       "array(['Statiustication', '1876-06-13', 61, '1937-10-16'], dtype=object)"
      ]
     },
     "execution_count": 100,
     "metadata": {},
     "output_type": "execute_result"
    }
   ],
   "source": [
    "first_row.values"
   ]
  },
  {
   "cell_type": "code",
   "execution_count": 101,
   "id": "9d21faab-6262-42c7-a800-e2e7bdc6c260",
   "metadata": {},
   "outputs": [
    {
     "data": {
      "text/plain": [
       "<bound method Series.unique of Occupation    Statiustication\n",
       "Born               1876-06-13\n",
       "Age                        61\n",
       "Died               1937-10-16\n",
       "Name: William Gosset, dtype: object>"
      ]
     },
     "execution_count": 101,
     "metadata": {},
     "output_type": "execute_result"
    }
   ],
   "source": [
    "first_row.unique"
   ]
  },
  {
   "cell_type": "code",
   "execution_count": 102,
   "id": "b731cf4f-fbe0-4104-b463-02227ebec9b4",
   "metadata": {},
   "outputs": [
    {
     "data": {
      "text/plain": [
       "Index(['Occupation', 'Born', 'Age', 'Died'], dtype='object')"
      ]
     },
     "execution_count": 102,
     "metadata": {},
     "output_type": "execute_result"
    }
   ],
   "source": [
    "first_row.keys()"
   ]
  },
  {
   "cell_type": "code",
   "execution_count": 103,
   "id": "6b94dab5-60da-4999-88fb-358459bf59a7",
   "metadata": {},
   "outputs": [
    {
     "data": {
      "text/plain": [
       "Index(['Occupation', 'Born', 'Age', 'Died'], dtype='object')"
      ]
     },
     "execution_count": 103,
     "metadata": {},
     "output_type": "execute_result"
    }
   ],
   "source": [
    "scientists.keys()"
   ]
  },
  {
   "cell_type": "code",
   "execution_count": 104,
   "id": "1b39b6c8-0f8c-4c2e-bafa-c3a66fedcf0a",
   "metadata": {},
   "outputs": [
    {
     "data": {
      "text/plain": [
       "Index(['Rosaline Franklin', 'William Gosset'], dtype='object')"
      ]
     },
     "execution_count": 104,
     "metadata": {},
     "output_type": "execute_result"
    }
   ],
   "source": [
    "scientists.index"
   ]
  },
  {
   "cell_type": "code",
   "execution_count": 105,
   "id": "19266d86-83b6-4581-b7eb-30d9170e2038",
   "metadata": {},
   "outputs": [
    {
     "data": {
      "text/plain": [
       "Index(['Occupation', 'Born', 'Age', 'Died'], dtype='object')"
      ]
     },
     "execution_count": 105,
     "metadata": {},
     "output_type": "execute_result"
    }
   ],
   "source": [
    "scientists.columns"
   ]
  },
  {
   "cell_type": "code",
   "execution_count": 158,
   "id": "86c6d0c5-f724-46f1-a4bb-c28b7ce10a40",
   "metadata": {},
   "outputs": [],
   "source": [
    "df = pd.read_csv('data/scientists.csv')"
   ]
  },
  {
   "cell_type": "code",
   "execution_count": 159,
   "id": "e5f6de7d-c41a-48ff-8e2e-def9505f4cc7",
   "metadata": {},
   "outputs": [],
   "source": [
    "ages = df['Age']"
   ]
  },
  {
   "cell_type": "code",
   "execution_count": 160,
   "id": "1ecd533c-abb7-4517-8b7d-ebee30346770",
   "metadata": {},
   "outputs": [
    {
     "data": {
      "text/plain": [
       "Name          William Gosset\n",
       "Born              1920-07-25\n",
       "Died              1964-04-14\n",
       "Age                       90\n",
       "Occupation      Statistician\n",
       "dtype: object"
      ]
     },
     "execution_count": 160,
     "metadata": {},
     "output_type": "execute_result"
    }
   ],
   "source": [
    "df.max()"
   ]
  },
  {
   "cell_type": "code",
   "execution_count": 161,
   "id": "ab91df3c-997a-4c47-a0bc-2b232570c2f2",
   "metadata": {},
   "outputs": [
    {
     "data": {
      "text/plain": [
       "0    37\n",
       "1    61\n",
       "2    90\n",
       "3    66\n",
       "4    56\n",
       "5    45\n",
       "6    41\n",
       "7    77\n",
       "Name: Age, dtype: int64"
      ]
     },
     "execution_count": 161,
     "metadata": {},
     "output_type": "execute_result"
    }
   ],
   "source": [
    "ages"
   ]
  },
  {
   "cell_type": "code",
   "execution_count": 162,
   "id": "7914cec4-0c46-4270-9bac-d26dfb6dcce4",
   "metadata": {},
   "outputs": [
    {
     "name": "stdout",
     "output_type": "stream",
     "text": [
      "0     74\n",
      "1    122\n",
      "2    180\n",
      "3    132\n",
      "4    112\n",
      "5     90\n",
      "6     82\n",
      "7    154\n",
      "Name: Age, dtype: int64\n"
     ]
    }
   ],
   "source": [
    "#시리즈 연산\n",
    "print(ages+ages)"
   ]
  },
  {
   "cell_type": "code",
   "execution_count": 163,
   "id": "f9a3735d-3e65-4e6e-8be1-e876022c1b7c",
   "metadata": {},
   "outputs": [
    {
     "name": "stdout",
     "output_type": "stream",
     "text": [
      "0    137\n",
      "1    161\n",
      "2    190\n",
      "3    166\n",
      "4    156\n",
      "5    145\n",
      "6    141\n",
      "7    177\n",
      "Name: Age, dtype: int64\n"
     ]
    }
   ],
   "source": [
    "#브로드캐스팅\n",
    "print(ages+100)"
   ]
  },
  {
   "cell_type": "code",
   "execution_count": 164,
   "id": "1c8eda4e-1bc7-47ec-8759-da6e38e4cbfa",
   "metadata": {},
   "outputs": [
    {
     "data": {
      "text/plain": [
       "0     38.0\n",
       "1    161.0\n",
       "2      NaN\n",
       "3      NaN\n",
       "4      NaN\n",
       "5      NaN\n",
       "6      NaN\n",
       "7      NaN\n",
       "dtype: float64"
      ]
     },
     "execution_count": 164,
     "metadata": {},
     "output_type": "execute_result"
    }
   ],
   "source": [
    "ages+pd.Series([1,100])"
   ]
  },
  {
   "cell_type": "code",
   "execution_count": 165,
   "id": "bde283af-8b49-47d7-b7f4-100d1325886c",
   "metadata": {},
   "outputs": [],
   "source": [
    "rev_ages = ages.sort_index(ascending=False)"
   ]
  },
  {
   "cell_type": "code",
   "execution_count": 166,
   "id": "159bf443-4103-4c53-951f-b02bf5c3b7d1",
   "metadata": {},
   "outputs": [
    {
     "data": {
      "text/plain": [
       "0     74\n",
       "1    122\n",
       "2    180\n",
       "3    132\n",
       "4    112\n",
       "5     90\n",
       "6     82\n",
       "7    154\n",
       "Name: Age, dtype: int64"
      ]
     },
     "execution_count": 166,
     "metadata": {},
     "output_type": "execute_result"
    }
   ],
   "source": [
    "ages+ rev_ages\n",
    "#벡터와 벡터의 연산은 일치하는 인덱스의 값끼리 수행한다."
   ]
  },
  {
   "cell_type": "code",
   "execution_count": 167,
   "id": "558e51d2-7448-4aef-95d1-ca1ae787d9f6",
   "metadata": {},
   "outputs": [
    {
     "name": "stdout",
     "output_type": "stream",
     "text": [
      "object\n"
     ]
    }
   ],
   "source": [
    "print(df['Born'].dtype)"
   ]
  },
  {
   "cell_type": "code",
   "execution_count": 168,
   "id": "34e4dd69-4368-4574-8435-7884326bd0f8",
   "metadata": {},
   "outputs": [
    {
     "name": "stdout",
     "output_type": "stream",
     "text": [
      "object\n"
     ]
    }
   ],
   "source": [
    "print(df['Died'].dtype)"
   ]
  },
  {
   "cell_type": "code",
   "execution_count": 176,
   "id": "06f2a759-3361-43be-8687-ecb4bc9a043d",
   "metadata": {},
   "outputs": [
    {
     "name": "stdout",
     "output_type": "stream",
     "text": [
      "object\n"
     ]
    }
   ],
   "source": [
    "print(df.Born.dtype)"
   ]
  },
  {
   "cell_type": "code",
   "execution_count": 177,
   "id": "07fd77bc-7d34-4965-812d-7306ca415797",
   "metadata": {},
   "outputs": [
    {
     "data": {
      "text/plain": [
       "0    1920-07-25\n",
       "1    1876-06-13\n",
       "2    1820-05-12\n",
       "3    1867-11-07\n",
       "4    1907-05-27\n",
       "5    1813-03-15\n",
       "6    1912-06-23\n",
       "7    1777-04-30\n",
       "Name: Born, dtype: object"
      ]
     },
     "execution_count": 177,
     "metadata": {},
     "output_type": "execute_result"
    }
   ],
   "source": [
    "df.Born"
   ]
  },
  {
   "cell_type": "code",
   "execution_count": 182,
   "id": "3c8643c9-4dbe-4ada-908f-74944f38b658",
   "metadata": {},
   "outputs": [],
   "source": [
    "df.Born = pd.to_datetime(df['Born'],format='%Y-%m-%d')\n",
    "df.Died = pd.to_datetime(df['Died'],format='%Y-%m-%d')"
   ]
  },
  {
   "cell_type": "code",
   "execution_count": 140,
   "id": "29bf0fc1-75c8-41b3-add6-923e59daab9d",
   "metadata": {},
   "outputs": [
    {
     "name": "stdout",
     "output_type": "stream",
     "text": [
      "object\n"
     ]
    }
   ],
   "source": [
    "print(df.Died.dtype)"
   ]
  },
  {
   "cell_type": "code",
   "execution_count": 184,
   "id": "4f64b5f1-8765-4d30-9700-0a518e24be68",
   "metadata": {},
   "outputs": [
    {
     "data": {
      "text/plain": [
       "0   13779 days\n",
       "1   22404 days\n",
       "2   32964 days\n",
       "3   24345 days\n",
       "4   20777 days\n",
       "5   16529 days\n",
       "6   15324 days\n",
       "7   28422 days\n",
       "dtype: timedelta64[ns]"
      ]
     },
     "execution_count": 184,
     "metadata": {},
     "output_type": "execute_result"
    }
   ],
   "source": [
    "df.Died - df.Born"
   ]
  },
  {
   "cell_type": "code",
   "execution_count": 187,
   "id": "a2ad647f-4c95-448b-812f-3969516c1d5e",
   "metadata": {},
   "outputs": [],
   "source": [
    "import random\n",
    "random.shuffle(df['Age'])"
   ]
  },
  {
   "cell_type": "code",
   "execution_count": 191,
   "id": "2731df91-d70d-495d-b254-b35f5865f3b7",
   "metadata": {},
   "outputs": [
    {
     "data": {
      "text/html": [
       "<div>\n",
       "<style scoped>\n",
       "    .dataframe tbody tr th:only-of-type {\n",
       "        vertical-align: middle;\n",
       "    }\n",
       "\n",
       "    .dataframe tbody tr th {\n",
       "        vertical-align: top;\n",
       "    }\n",
       "\n",
       "    .dataframe thead th {\n",
       "        text-align: right;\n",
       "    }\n",
       "</style>\n",
       "<table border=\"1\" class=\"dataframe\">\n",
       "  <thead>\n",
       "    <tr style=\"text-align: right;\">\n",
       "      <th></th>\n",
       "      <th>Born</th>\n",
       "      <th>Died</th>\n",
       "      <th>Occupation</th>\n",
       "    </tr>\n",
       "  </thead>\n",
       "  <tbody>\n",
       "    <tr>\n",
       "      <th>0</th>\n",
       "      <td>1920-07-25</td>\n",
       "      <td>1958-04-16</td>\n",
       "      <td>Chemist</td>\n",
       "    </tr>\n",
       "    <tr>\n",
       "      <th>1</th>\n",
       "      <td>1876-06-13</td>\n",
       "      <td>1937-10-16</td>\n",
       "      <td>Statistician</td>\n",
       "    </tr>\n",
       "    <tr>\n",
       "      <th>2</th>\n",
       "      <td>1820-05-12</td>\n",
       "      <td>1910-08-13</td>\n",
       "      <td>Nurse</td>\n",
       "    </tr>\n",
       "    <tr>\n",
       "      <th>3</th>\n",
       "      <td>1867-11-07</td>\n",
       "      <td>1934-07-04</td>\n",
       "      <td>Chemist</td>\n",
       "    </tr>\n",
       "    <tr>\n",
       "      <th>4</th>\n",
       "      <td>1907-05-27</td>\n",
       "      <td>1964-04-14</td>\n",
       "      <td>Biologist</td>\n",
       "    </tr>\n",
       "    <tr>\n",
       "      <th>5</th>\n",
       "      <td>1813-03-15</td>\n",
       "      <td>1858-06-16</td>\n",
       "      <td>Physician</td>\n",
       "    </tr>\n",
       "    <tr>\n",
       "      <th>6</th>\n",
       "      <td>1912-06-23</td>\n",
       "      <td>1954-06-07</td>\n",
       "      <td>Computer Scientist</td>\n",
       "    </tr>\n",
       "    <tr>\n",
       "      <th>7</th>\n",
       "      <td>1777-04-30</td>\n",
       "      <td>1855-02-23</td>\n",
       "      <td>Mathematician</td>\n",
       "    </tr>\n",
       "  </tbody>\n",
       "</table>\n",
       "</div>"
      ],
      "text/plain": [
       "        Born       Died          Occupation\n",
       "0 1920-07-25 1958-04-16             Chemist\n",
       "1 1876-06-13 1937-10-16        Statistician\n",
       "2 1820-05-12 1910-08-13               Nurse\n",
       "3 1867-11-07 1934-07-04             Chemist\n",
       "4 1907-05-27 1964-04-14           Biologist\n",
       "5 1813-03-15 1858-06-16           Physician\n",
       "6 1912-06-23 1954-06-07  Computer Scientist\n",
       "7 1777-04-30 1855-02-23       Mathematician"
      ]
     },
     "execution_count": 191,
     "metadata": {},
     "output_type": "execute_result"
    }
   ],
   "source": [
    "df.drop(['Name','Age'],axis=1)"
   ]
  },
  {
   "cell_type": "code",
   "execution_count": 192,
   "id": "fc504678-07bf-48e9-95fb-2eb0704efbfe",
   "metadata": {},
   "outputs": [],
   "source": [
    "df.to_pickle('test.pickle')"
   ]
  },
  {
   "cell_type": "code",
   "execution_count": null,
   "id": "6d05c1fa-4a3a-4441-a9c3-44aafd973a88",
   "metadata": {},
   "outputs": [],
   "source": []
  }
 ],
 "metadata": {
  "kernelspec": {
   "display_name": "Python 3 (ipykernel)",
   "language": "python",
   "name": "python3"
  },
  "language_info": {
   "codemirror_mode": {
    "name": "ipython",
    "version": 3
   },
   "file_extension": ".py",
   "mimetype": "text/x-python",
   "name": "python",
   "nbconvert_exporter": "python",
   "pygments_lexer": "ipython3",
   "version": "3.9.7"
  },
  "widgets": {
   "application/vnd.jupyter.widget-state+json": {
    "state": {},
    "version_major": 2,
    "version_minor": 0
   }
  }
 },
 "nbformat": 4,
 "nbformat_minor": 5
}
